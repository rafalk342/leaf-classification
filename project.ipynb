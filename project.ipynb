{
 "cells": [
  {
   "cell_type": "code",
   "execution_count": 0,
   "metadata": {
    "colab": {},
    "colab_type": "code",
    "id": "BeenVACfRqRS"
   },
   "outputs": [],
   "source": [
    "import numpy as np \n",
    "import matplotlib.pyplot as plt\n",
    "import pandas as pd\n",
    "import warnings\n",
    "warnings.filterwarnings('ignore')"
   ]
  },
  {
   "cell_type": "markdown",
   "metadata": {
    "colab_type": "text",
    "id": "68oAR7OvRqR-"
   },
   "source": [
    "# Proces przetwarzania danych"
   ]
  },
  {
   "cell_type": "code",
   "execution_count": 0,
   "metadata": {
    "colab": {},
    "colab_type": "code",
    "id": "HZ76EWvfRqSO"
   },
   "outputs": [],
   "source": [
    "df = pd.read_csv('./data/train.csv', index_col=0)"
   ]
  },
  {
   "cell_type": "code",
   "execution_count": 3,
   "metadata": {
    "colab": {
     "base_uri": "https://localhost:8080/",
     "height": 173
    },
    "colab_type": "code",
    "id": "IawrBIDlRqSr",
    "outputId": "ee419ac0-72c9-4903-e556-ec4caa335ec4",
    "scrolled": false
   },
   "outputs": [
    {
     "name": "stdout",
     "output_type": "stream",
     "text": [
      "                  species   margin1   margin2  ...  texture62  texture63  texture64\n",
      "id                                             ...                                 \n",
      "1             Acer_Opalus  0.007812  0.023438  ...   0.004883   0.000000   0.025391\n",
      "2   Pterocarya_Stenoptera  0.005859  0.000000  ...   0.000977   0.039062   0.022461\n",
      "3    Quercus_Hartwissiana  0.005859  0.009766  ...   0.000000   0.020508   0.002930\n",
      "5         Tilia_Tomentosa  0.000000  0.003906  ...   0.017578   0.000000   0.047852\n",
      "6      Quercus_Variabilis  0.005859  0.003906  ...   0.000000   0.000000   0.031250\n",
      "\n",
      "[5 rows x 193 columns]\n"
     ]
    }
   ],
   "source": [
    "print(df.head())"
   ]
  },
  {
   "cell_type": "markdown",
   "metadata": {
    "colab_type": "text",
    "id": "tdDZwo2CRqTN"
   },
   "source": [
    "# Proces modelowania (znajdowania optymalnych parametrów)"
   ]
  },
  {
   "cell_type": "markdown",
   "metadata": {
    "colab_type": "text",
    "id": "y1KfK_8qRqTY"
   },
   "source": [
    "## Split data into train and test"
   ]
  },
  {
   "cell_type": "code",
   "execution_count": 0,
   "metadata": {
    "colab": {},
    "colab_type": "code",
    "id": "xIaPCxX-RqTi"
   },
   "outputs": [],
   "source": [
    "from sklearn.model_selection import train_test_split\n",
    "from sklearn.preprocessing import LabelEncoder\n",
    "\n",
    "y = df.pop('species')\n",
    "label_encoder = LabelEncoder()\n",
    "y = label_encoder.fit_transform(y)\n",
    "\n",
    "X = df\n",
    "X_train,X_test,y_train,y_test = train_test_split(X,y,test_size=0.2, random_state=42)"
   ]
  },
  {
   "cell_type": "code",
   "execution_count": 5,
   "metadata": {
    "colab": {
     "base_uri": "https://localhost:8080/",
     "height": 34
    },
    "colab_type": "code",
    "id": "lh4WonEBRqUA",
    "outputId": "d436b890-3c23-4cb5-e52a-224d4b7317c5"
   },
   "outputs": [
    {
     "name": "stdout",
     "output_type": "stream",
     "text": [
      "[ 3 49 65 94 84 40 54 78 53 89]\n"
     ]
    }
   ],
   "source": [
    "print(y[:10])"
   ]
  },
  {
   "cell_type": "code",
   "execution_count": 6,
   "metadata": {
    "colab": {
     "base_uri": "https://localhost:8080/",
     "height": 265
    },
    "colab_type": "code",
    "id": "SptCHy_aRqUX",
    "outputId": "f948070b-ce39-4ee5-d6e5-b029409dd7fd"
   },
   "outputs": [
    {
     "data": {
      "image/png": "[encoded data removed]",
      "text/plain": [
       "<Figure size 432x288 with 1 Axes>"
      ]
     },
     "metadata": {
      "tags": []
     },
     "output_type": "display_data"
    }
   ],
   "source": [
    "plt.hist(y_train)\n",
    "plt.hist(y_test)\n",
    "plt.show()"
   ]
  },
  {
   "cell_type": "markdown",
   "metadata": {
    "colab_type": "text",
    "id": "Mngabr_YRqUn"
   },
   "source": [
    "## Scale data"
   ]
  },
  {
   "cell_type": "code",
   "execution_count": 0,
   "metadata": {
    "colab": {},
    "colab_type": "code",
    "id": "JyCOd3v9RqUv"
   },
   "outputs": [],
   "source": [
    "from sklearn.preprocessing import StandardScaler\n",
    "scaler = StandardScaler()\n",
    "X_train = scaler.fit_transform(X_train)\n",
    "X_test = scaler.transform(X_test)"
   ]
  },
  {
   "cell_type": "code",
   "execution_count": 0,
   "metadata": {
    "colab": {},
    "colab_type": "code",
    "id": "T5PMkhVpRqVD"
   },
   "outputs": [],
   "source": [
    "from sklearn.model_selection import StratifiedKFold\n",
    "from sklearn.model_selection import GridSearchCV\n",
    "from sklearn import  metrics\n",
    "\n",
    "seed=123\n",
    "kfold = StratifiedKFold(n_splits=5, random_state=seed)"
   ]
  },
  {
   "cell_type": "markdown",
   "metadata": {
    "colab_type": "text",
    "id": "OMTdDjzqRqVQ"
   },
   "source": [
    "## LogisticRegression"
   ]
  },
  {
   "cell_type": "code",
   "execution_count": 9,
   "metadata": {
    "colab": {
     "base_uri": "https://localhost:8080/",
     "height": 52
    },
    "colab_type": "code",
    "id": "euZq-jumRqVV",
    "outputId": "d2a8655a-2189-45cf-db08-5e3427122090"
   },
   "outputs": [
    {
     "name": "stdout",
     "output_type": "stream",
     "text": [
      "{'C': 1000, 'penalty': 'l2'}\n",
      "accuracy_score: 0.98989898989899\n"
     ]
    }
   ],
   "source": [
    "from sklearn.linear_model import LogisticRegression\n",
    "\n",
    "param_grid = {\n",
    "            'C': [0.001, 0.01, 0.1, 1, 10, 100, 1000, 10000],\n",
    "            \"penalty\":[\"l1\",\"l2\"]\n",
    "}\n",
    "\n",
    "grid_1 = GridSearchCV(LogisticRegression(), param_grid, cv=kfold)\n",
    "\n",
    "grid_1.fit(X_train, y_train)\n",
    "print(grid_1.best_params_)\n",
    "print(\"accuracy_score: {}\".format(metrics.accuracy_score(y_test, grid_1.best_estimator_.predict(X_test)) ))"
   ]
  },
  {
   "cell_type": "markdown",
   "metadata": {
    "colab_type": "text",
    "id": "6pazvol2RqVu"
   },
   "source": [
    "## SVM with linear kernel"
   ]
  },
  {
   "cell_type": "code",
   "execution_count": 10,
   "metadata": {
    "colab": {
     "base_uri": "https://localhost:8080/",
     "height": 52
    },
    "colab_type": "code",
    "id": "cwwOB3Z1RqVz",
    "outputId": "de573c14-018c-4494-bfe0-499ed9edee28"
   },
   "outputs": [
    {
     "name": "stdout",
     "output_type": "stream",
     "text": [
      "{'C': 0.1, 'gamma': 0.001}\n",
      "accuracy_score: 0.9797979797979798\n"
     ]
    }
   ],
   "source": [
    "from sklearn.svm import SVC\n",
    "\n",
    "param_grid = {\n",
    "            'C': [0.001, 0.01, 0.1, 1, 10, 100, 1000, 10000],\n",
    "            'gamma' : [0.001, 0.01, 0.1, 1]\n",
    "}\n",
    "\n",
    "grid_2 = GridSearchCV(SVC(kernel='linear', probability=True), param_grid, cv=kfold)\n",
    "\n",
    "grid_2.fit(X_train, y_train)\n",
    "print(grid_2.best_params_)\n",
    "print(\"accuracy_score: {}\".format(metrics.accuracy_score(y_test, grid_2.best_estimator_.predict(X_test)) ))"
   ]
  },
  {
   "cell_type": "markdown",
   "metadata": {
    "colab_type": "text",
    "id": "WbYHK5muRqWJ"
   },
   "source": [
    "## SVM with polynomial kernel"
   ]
  },
  {
   "cell_type": "code",
   "execution_count": 11,
   "metadata": {
    "colab": {
     "base_uri": "https://localhost:8080/",
     "height": 52
    },
    "colab_type": "code",
    "id": "Uf43BSz-RqWO",
    "outputId": "ba827801-7569-4573-beaf-7440265d5062"
   },
   "outputs": [
    {
     "name": "stdout",
     "output_type": "stream",
     "text": [
      "{'C': 0.01, 'degree': 2, 'gamma': 1}\n",
      "accuracy_score: 0.9797979797979798\n"
     ]
    }
   ],
   "source": [
    "param_grid = {\n",
    "            'C': [0.01, 0.1, 1, 10],\n",
    "            'gamma' : [0.001, 0.01, 0.1, 1],\n",
    "            'degree': [2,3]\n",
    "}\n",
    "\n",
    "grid_3 = GridSearchCV(SVC(kernel='poly', probability=True), param_grid, cv=kfold)\n",
    "\n",
    "grid_3.fit(X_train, y_train)\n",
    "print(grid_3.best_params_)\n",
    "print(\"accuracy_score: {}\".format(metrics.accuracy_score(y_test, grid_3.best_estimator_.predict(X_test)) ))"
   ]
  },
  {
   "cell_type": "markdown",
   "metadata": {
    "colab_type": "text",
    "id": "jYdXQMEORqWg"
   },
   "source": [
    "## SVM with rbf"
   ]
  },
  {
   "cell_type": "code",
   "execution_count": 12,
   "metadata": {
    "colab": {
     "base_uri": "https://localhost:8080/",
     "height": 52
    },
    "colab_type": "code",
    "id": "Zhyh-6yeRqWk",
    "outputId": "45de8d7a-7d93-48fc-c991-a7f677038004"
   },
   "outputs": [
    {
     "name": "stdout",
     "output_type": "stream",
     "text": [
      "{'C': 100, 'gamma': 0.001}\n",
      "accuracy_score: 0.9848484848484849\n"
     ]
    }
   ],
   "source": [
    "param_grid = {\n",
    "            'C': [0.001, 0.01, 0.1, 1, 10, 100, 1000, 10000],\n",
    "            'gamma' : [0.001, 0.01, 0.1, 1]\n",
    "}\n",
    "\n",
    "grid_4 = GridSearchCV(SVC(kernel='rbf', probability=True), param_grid, cv=kfold)\n",
    "\n",
    "grid_4.fit(X_train, y_train)\n",
    "print(grid_4.best_params_)\n",
    "print(\"accuracy_score: {}\".format(metrics.accuracy_score(y_test, grid_4.best_estimator_.predict(X_test)) ))"
   ]
  },
  {
   "cell_type": "markdown",
   "metadata": {
    "colab_type": "text",
    "id": "4SDL4oV5RqW6"
   },
   "source": [
    "## DecisionTreeClassifier"
   ]
  },
  {
   "cell_type": "code",
   "execution_count": 13,
   "metadata": {
    "colab": {
     "base_uri": "https://localhost:8080/",
     "height": 52
    },
    "colab_type": "code",
    "id": "3uQ39hEHRqXD",
    "outputId": "e68e7acd-0575-4832-c0e6-e6771c3a3a1e"
   },
   "outputs": [
    {
     "name": "stdout",
     "output_type": "stream",
     "text": [
      "{'max_depth': 15, 'min_samples_leaf': 10}\n",
      "accuracy_score: 0.18686868686868688\n"
     ]
    }
   ],
   "source": [
    "from sklearn.tree import DecisionTreeClassifier\n",
    "param_grid = {\n",
    "            'max_depth': np.arange(1, 16),\n",
    "            'min_samples_leaf': [1, 5, 10, 20, 50, 100],\n",
    "}\n",
    "\n",
    "grid_5 = GridSearchCV(DecisionTreeClassifier(random_state=42), param_grid, cv=kfold)\n",
    "\n",
    "grid_5.fit(X_train, y_train)\n",
    "print(grid_5.best_params_)\n",
    "print(\"accuracy_score: {}\".format(metrics.accuracy_score(y_test, grid_5.best_estimator_.predict(X_test)) ))"
   ]
  },
  {
   "cell_type": "markdown",
   "metadata": {
    "colab_type": "text",
    "id": "5Ix8EYSGRqXY"
   },
   "source": [
    "## RandomForestClassifier"
   ]
  },
  {
   "cell_type": "code",
   "execution_count": 14,
   "metadata": {
    "colab": {
     "base_uri": "https://localhost:8080/",
     "height": 52
    },
    "colab_type": "code",
    "id": "dF5KFOI_RqXe",
    "outputId": "34ff3b09-1c3f-48e0-c36c-f29525d5df26"
   },
   "outputs": [
    {
     "name": "stdout",
     "output_type": "stream",
     "text": [
      "{'max_depth': 14, 'min_samples_leaf': 1}\n",
      "accuracy_score: 0.9343434343434344\n"
     ]
    }
   ],
   "source": [
    "from sklearn.ensemble import RandomForestClassifier\n",
    "param_grid = {\n",
    "            'max_depth': np.arange(1, 16),\n",
    "            'min_samples_leaf': [1, 5, 10, 20, 50, 100],\n",
    "}\n",
    "\n",
    "grid_6 = GridSearchCV(RandomForestClassifier(random_state=42), param_grid, cv=kfold)\n",
    "\n",
    "grid_6.fit(X_train, y_train)\n",
    "print(grid_6.best_params_)\n",
    "print(\"accuracy_score: {}\".format(metrics.accuracy_score(y_test, grid_6.best_estimator_.predict(X_test)) ))"
   ]
  },
  {
   "cell_type": "markdown",
   "metadata": {
    "colab_type": "text",
    "id": "uzq9WeORRqX5"
   },
   "source": [
    "## MLPClassifier"
   ]
  },
  {
   "cell_type": "code",
   "execution_count": 15,
   "metadata": {
    "colab": {
     "base_uri": "https://localhost:8080/",
     "height": 52
    },
    "colab_type": "code",
    "id": "uo53Ze7QRqX-",
    "outputId": "8ac70663-fa8d-4ce6-e76b-3749343e9ec8"
   },
   "outputs": [
    {
     "name": "stdout",
     "output_type": "stream",
     "text": [
      "{'activation': 'relu', 'alpha': 1}\n",
      "accuracy_score: 0.98989898989899\n"
     ]
    }
   ],
   "source": [
    "from sklearn.neural_network import MLPClassifier\n",
    "param_grid = {\n",
    "            'activation': ['relu', 'tanh'],\n",
    "            'alpha': [0.1, 1],\n",
    "}\n",
    "\n",
    "grid_7 = GridSearchCV(MLPClassifier(max_iter=100), param_grid, cv=kfold)\n",
    "\n",
    "grid_7.fit(X_train, y_train)\n",
    "print(grid_7.best_params_)\n",
    "print(\"accuracy_score: {}\".format(metrics.accuracy_score(y_test, grid_7.best_estimator_.predict(X_test)) ))"
   ]
  },
  {
   "cell_type": "code",
   "execution_count": 0,
   "metadata": {
    "colab": {},
    "colab_type": "code",
    "id": "MDj86oTVRqYK"
   },
   "outputs": [],
   "source": [
    "classifiers = [\n",
    "    ('logistic', grid_1.best_estimator_), \n",
    "    ('svm_linear', grid_2.best_estimator_), \n",
    "    ('svm_poly', grid_3.best_estimator_),\n",
    "    ('svm_rbf', grid_4.best_estimator_),\n",
    "    ('tree', grid_5.best_estimator_),\n",
    "    ('forest', grid_6.best_estimator_),\n",
    "    ('mlp', grid_7.best_estimator_),\n",
    "]"
   ]
  },
  {
   "cell_type": "markdown",
   "metadata": {
    "colab_type": "text",
    "id": "9dJEwNsDRqYX"
   },
   "source": [
    "## Ensemble of all classifier hard"
   ]
  },
  {
   "cell_type": "code",
   "execution_count": 17,
   "metadata": {
    "colab": {
     "base_uri": "https://localhost:8080/",
     "height": 34
    },
    "colab_type": "code",
    "id": "ge63b6_URqYb",
    "outputId": "75580b04-5e04-4bb7-e133-e492da2b1236"
   },
   "outputs": [
    {
     "name": "stdout",
     "output_type": "stream",
     "text": [
      "accuracy_score: 0.9848484848484849\n"
     ]
    }
   ],
   "source": [
    "from sklearn.ensemble import VotingClassifier\n",
    "\n",
    "voting_clf = VotingClassifier(\n",
    "    estimators=classifiers)\n",
    "voting_clf.fit(X_train, y_train)\n",
    "print(\"accuracy_score: {}\".format(metrics.accuracy_score(y_test, voting_clf.predict(X_test)) ))"
   ]
  },
  {
   "cell_type": "markdown",
   "metadata": {
    "colab_type": "text",
    "id": "ayiudE5wRqYn"
   },
   "source": [
    "## Ensemble of all classifier soft"
   ]
  },
  {
   "cell_type": "code",
   "execution_count": 18,
   "metadata": {
    "colab": {
     "base_uri": "https://localhost:8080/",
     "height": 34
    },
    "colab_type": "code",
    "id": "01Wb63UwRqYu",
    "outputId": "0260b75e-5534-4eae-c482-290c5d1d8ed2"
   },
   "outputs": [
    {
     "name": "stdout",
     "output_type": "stream",
     "text": [
      "accuracy_score: 0.98989898989899\n"
     ]
    }
   ],
   "source": [
    "voting_clf_soft = VotingClassifier(\n",
    "    estimators=classifiers,\n",
    "    voting='soft')\n",
    "voting_clf_soft.fit(X_train, y_train)\n",
    "print(\"accuracy_score: {}\".format(metrics.accuracy_score(y_test, voting_clf_soft.predict(X_test)) ))"
   ]
  },
  {
   "cell_type": "markdown",
   "metadata": {
    "colab_type": "text",
    "id": "i1P-4-3ARqY5"
   },
   "source": [
    "# Porównanie kilku modeli"
   ]
  },
  {
   "cell_type": "code",
   "execution_count": 0,
   "metadata": {
    "colab": {},
    "colab_type": "code",
    "id": "qdJDj29iRqY9"
   },
   "outputs": [],
   "source": [
    "names = []\n",
    "accuracy = []\n",
    "r2 = []\n",
    "explained_variance_score = []\n",
    "median_absolute_error = []\n",
    "mean_squared_error = []\n",
    "mean_absolute_error = []\n",
    "for name, model in classifiers:\n",
    "    names.append(name)\n",
    "    accuracy.append(metrics.accuracy_score(y_test, model.predict(X_test)))\n"
   ]
  },
  {
   "cell_type": "code",
   "execution_count": 20,
   "metadata": {
    "colab": {
     "base_uri": "https://localhost:8080/",
     "height": 269
    },
    "colab_type": "code",
    "id": "ltzCIkDDRqZN",
    "outputId": "33b70348-0784-420a-ad15-1983a549b478"
   },
   "outputs": [
    {
     "data": {
      "text/html": [
       "<div>\n",
       "<style scoped>\n",
       "    .dataframe tbody tr th:only-of-type {\n",
       "        vertical-align: middle;\n",
       "    }\n",
       "\n",
       "    .dataframe tbody tr th {\n",
       "        vertical-align: top;\n",
       "    }\n",
       "\n",
       "    .dataframe thead th {\n",
       "        text-align: right;\n",
       "    }\n",
       "</style>\n",
       "<table border=\"1\" class=\"dataframe\">\n",
       "  <thead>\n",
       "    <tr style=\"text-align: right;\">\n",
       "      <th></th>\n",
       "      <th>method</th>\n",
       "      <th>accuracy</th>\n",
       "    </tr>\n",
       "  </thead>\n",
       "  <tbody>\n",
       "    <tr>\n",
       "      <th>0</th>\n",
       "      <td>logistic</td>\n",
       "      <td>0.989899</td>\n",
       "    </tr>\n",
       "    <tr>\n",
       "      <th>1</th>\n",
       "      <td>svm_linear</td>\n",
       "      <td>0.979798</td>\n",
       "    </tr>\n",
       "    <tr>\n",
       "      <th>2</th>\n",
       "      <td>svm_poly</td>\n",
       "      <td>0.979798</td>\n",
       "    </tr>\n",
       "    <tr>\n",
       "      <th>3</th>\n",
       "      <td>svm_rbf</td>\n",
       "      <td>0.984848</td>\n",
       "    </tr>\n",
       "    <tr>\n",
       "      <th>4</th>\n",
       "      <td>tree</td>\n",
       "      <td>0.186869</td>\n",
       "    </tr>\n",
       "    <tr>\n",
       "      <th>5</th>\n",
       "      <td>forest</td>\n",
       "      <td>0.934343</td>\n",
       "    </tr>\n",
       "    <tr>\n",
       "      <th>6</th>\n",
       "      <td>mlp</td>\n",
       "      <td>0.989899</td>\n",
       "    </tr>\n",
       "  </tbody>\n",
       "</table>\n",
       "</div>"
      ],
      "text/plain": [
       "       method  accuracy\n",
       "0    logistic  0.989899\n",
       "1  svm_linear  0.979798\n",
       "2    svm_poly  0.979798\n",
       "3     svm_rbf  0.984848\n",
       "4        tree  0.186869\n",
       "5      forest  0.934343\n",
       "6         mlp  0.989899"
      ]
     },
     "execution_count": 20,
     "metadata": {
      "tags": []
     },
     "output_type": "execute_result"
    }
   ],
   "source": [
    "import pandas as pd\n",
    "d = {'method': names,\n",
    "     'accuracy': accuracy,\n",
    "    }\n",
    "df = pd.DataFrame(data=d)\n",
    "df"
   ]
  },
  {
   "cell_type": "markdown",
   "metadata": {
    "colab_type": "text",
    "id": "PhrtcqFPRqZb"
   },
   "source": [
    "# Wizualizację wyników"
   ]
  },
  {
   "cell_type": "code",
   "execution_count": 21,
   "metadata": {
    "colab": {
     "base_uri": "https://localhost:8080/",
     "height": 279
    },
    "colab_type": "code",
    "id": "D86Wtb1yRqZh",
    "outputId": "c71fa309-3836-4935-b590-a913e067c397"
   },
   "outputs": [
    {
     "data": {
      "image/png": "[encoded data removed]",
      "text/plain": [
       "<Figure size 432x288 with 1 Axes>"
      ]
     },
     "metadata": {
      "tags": []
     },
     "output_type": "display_data"
    }
   ],
   "source": [
    "import matplotlib.pyplot as plt\n",
    "fig, ax = plt.subplots()\n",
    "\n",
    "y_pos = np.arange(len(names))\n",
    "ax.barh(y_pos, accuracy, align='center')\n",
    "\n",
    "ax.set_yticks(y_pos)\n",
    "ax.set_yticklabels(names)\n",
    "ax.invert_yaxis()  # labels read top-to-bottom\n",
    "\n",
    "ax.set_xlabel('Accuracy')\n",
    "\n",
    "plt.show()"
   ]
  },
  {
   "cell_type": "markdown",
   "metadata": {
    "colab_type": "text",
    "id": "0QJssLSsRqZ0"
   },
   "source": [
    "# Podsumowanie pracy"
   ]
  },
  {
   "cell_type": "markdown",
   "metadata": {
    "colab_type": "text",
    "id": "IGC9MCqokuUc"
   },
   "source": [
    "Zbiór dostarczonych danych zawierał 1584 obrazków i 99 etykiet(każda jest reprezentowana przez 16 przykładów)."
   ]
  },
  {
   "cell_type": "markdown",
   "metadata": {
    "colab_type": "text",
    "id": "9FcDsZ1yRqZ5"
   },
   "source": [
    "Zbiór testowy kaggle nie miał labely. Czas obliczyć prawdopodobieństwa i wysłać na platforme."
   ]
  },
  {
   "cell_type": "markdown",
   "metadata": {
    "colab_type": "text",
    "id": "b9qusYqId5jN"
   },
   "source": [
    "Wzór na kaggle:\n",
    "![image.png](data:image/png;base64,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)"
   ]
  },
  {
   "cell_type": "code",
   "execution_count": 22,
   "metadata": {
    "colab": {
     "base_uri": "https://localhost:8080/",
     "height": 287
    },
    "colab_type": "code",
    "id": "hdXv3AnORqZ8",
    "outputId": "709a3634-6179-4735-c162-4f7477bf755c"
   },
   "outputs": [
    {
     "data": {
      "text/html": [
       "<div>\n",
       "<style scoped>\n",
       "    .dataframe tbody tr th:only-of-type {\n",
       "        vertical-align: middle;\n",
       "    }\n",
       "\n",
       "    .dataframe tbody tr th {\n",
       "        vertical-align: top;\n",
       "    }\n",
       "\n",
       "    .dataframe thead th {\n",
       "        text-align: right;\n",
       "    }\n",
       "</style>\n",
       "<table border=\"1\" class=\"dataframe\">\n",
       "  <thead>\n",
       "    <tr style=\"text-align: right;\">\n",
       "      <th></th>\n",
       "      <th>margin1</th>\n",
       "      <th>margin2</th>\n",
       "      <th>margin3</th>\n",
       "      <th>margin4</th>\n",
       "      <th>margin5</th>\n",
       "      <th>margin6</th>\n",
       "      <th>margin7</th>\n",
       "      <th>margin8</th>\n",
       "      <th>margin9</th>\n",
       "      <th>margin10</th>\n",
       "      <th>margin11</th>\n",
       "      <th>margin12</th>\n",
       "      <th>margin13</th>\n",
       "      <th>margin14</th>\n",
       "      <th>margin15</th>\n",
       "      <th>margin16</th>\n",
       "      <th>margin17</th>\n",
       "      <th>margin18</th>\n",
       "      <th>margin19</th>\n",
       "      <th>margin20</th>\n",
       "      <th>margin21</th>\n",
       "      <th>margin22</th>\n",
       "      <th>margin23</th>\n",
       "      <th>margin24</th>\n",
       "      <th>margin25</th>\n",
       "      <th>margin26</th>\n",
       "      <th>margin27</th>\n",
       "      <th>margin28</th>\n",
       "      <th>margin29</th>\n",
       "      <th>margin30</th>\n",
       "      <th>margin31</th>\n",
       "      <th>margin32</th>\n",
       "      <th>margin33</th>\n",
       "      <th>margin34</th>\n",
       "      <th>margin35</th>\n",
       "      <th>margin36</th>\n",
       "      <th>margin37</th>\n",
       "      <th>margin38</th>\n",
       "      <th>margin39</th>\n",
       "      <th>margin40</th>\n",
       "      <th>...</th>\n",
       "      <th>texture25</th>\n",
       "      <th>texture26</th>\n",
       "      <th>texture27</th>\n",
       "      <th>texture28</th>\n",
       "      <th>texture29</th>\n",
       "      <th>texture30</th>\n",
       "      <th>texture31</th>\n",
       "      <th>texture32</th>\n",
       "      <th>texture33</th>\n",
       "      <th>texture34</th>\n",
       "      <th>texture35</th>\n",
       "      <th>texture36</th>\n",
       "      <th>texture37</th>\n",
       "      <th>texture38</th>\n",
       "      <th>texture39</th>\n",
       "      <th>texture40</th>\n",
       "      <th>texture41</th>\n",
       "      <th>texture42</th>\n",
       "      <th>texture43</th>\n",
       "      <th>texture44</th>\n",
       "      <th>texture45</th>\n",
       "      <th>texture46</th>\n",
       "      <th>texture47</th>\n",
       "      <th>texture48</th>\n",
       "      <th>texture49</th>\n",
       "      <th>texture50</th>\n",
       "      <th>texture51</th>\n",
       "      <th>texture52</th>\n",
       "      <th>texture53</th>\n",
       "      <th>texture54</th>\n",
       "      <th>texture55</th>\n",
       "      <th>texture56</th>\n",
       "      <th>texture57</th>\n",
       "      <th>texture58</th>\n",
       "      <th>texture59</th>\n",
       "      <th>texture60</th>\n",
       "      <th>texture61</th>\n",
       "      <th>texture62</th>\n",
       "      <th>texture63</th>\n",
       "      <th>texture64</th>\n",
       "    </tr>\n",
       "    <tr>\n",
       "      <th>id</th>\n",
       "      <th></th>\n",
       "      <th></th>\n",
       "      <th></th>\n",
       "      <th></th>\n",
       "      <th></th>\n",
       "      <th></th>\n",
       "      <th></th>\n",
       "      <th></th>\n",
       "      <th></th>\n",
       "      <th></th>\n",
       "      <th></th>\n",
       "      <th></th>\n",
       "      <th></th>\n",
       "      <th></th>\n",
       "      <th></th>\n",
       "      <th></th>\n",
       "      <th></th>\n",
       "      <th></th>\n",
       "      <th></th>\n",
       "      <th></th>\n",
       "      <th></th>\n",
       "      <th></th>\n",
       "      <th></th>\n",
       "      <th></th>\n",
       "      <th></th>\n",
       "      <th></th>\n",
       "      <th></th>\n",
       "      <th></th>\n",
       "      <th></th>\n",
       "      <th></th>\n",
       "      <th></th>\n",
       "      <th></th>\n",
       "      <th></th>\n",
       "      <th></th>\n",
       "      <th></th>\n",
       "      <th></th>\n",
       "      <th></th>\n",
       "      <th></th>\n",
       "      <th></th>\n",
       "      <th></th>\n",
       "      <th></th>\n",
       "      <th></th>\n",
       "      <th></th>\n",
       "      <th></th>\n",
       "      <th></th>\n",
       "      <th></th>\n",
       "      <th></th>\n",
       "      <th></th>\n",
       "      <th></th>\n",
       "      <th></th>\n",
       "      <th></th>\n",
       "      <th></th>\n",
       "      <th></th>\n",
       "      <th></th>\n",
       "      <th></th>\n",
       "      <th></th>\n",
       "      <th></th>\n",
       "      <th></th>\n",
       "      <th></th>\n",
       "      <th></th>\n",
       "      <th></th>\n",
       "      <th></th>\n",
       "      <th></th>\n",
       "      <th></th>\n",
       "      <th></th>\n",
       "      <th></th>\n",
       "      <th></th>\n",
       "      <th></th>\n",
       "      <th></th>\n",
       "      <th></th>\n",
       "      <th></th>\n",
       "      <th></th>\n",
       "      <th></th>\n",
       "      <th></th>\n",
       "      <th></th>\n",
       "      <th></th>\n",
       "      <th></th>\n",
       "      <th></th>\n",
       "      <th></th>\n",
       "      <th></th>\n",
       "      <th></th>\n",
       "    </tr>\n",
       "  </thead>\n",
       "  <tbody>\n",
       "    <tr>\n",
       "      <th>4</th>\n",
       "      <td>0.019531</td>\n",
       "      <td>0.009766</td>\n",
       "      <td>0.078125</td>\n",
       "      <td>0.011719</td>\n",
       "      <td>0.003906</td>\n",
       "      <td>0.015625</td>\n",
       "      <td>0.005859</td>\n",
       "      <td>0.0</td>\n",
       "      <td>0.005859</td>\n",
       "      <td>0.023438</td>\n",
       "      <td>0.005859</td>\n",
       "      <td>0.021484</td>\n",
       "      <td>0.076172</td>\n",
       "      <td>0.001953</td>\n",
       "      <td>0.035156</td>\n",
       "      <td>0.000000</td>\n",
       "      <td>0.001953</td>\n",
       "      <td>0.021484</td>\n",
       "      <td>0.001953</td>\n",
       "      <td>0.015625</td>\n",
       "      <td>0.009766</td>\n",
       "      <td>0.000000</td>\n",
       "      <td>0.000000</td>\n",
       "      <td>0.005859</td>\n",
       "      <td>0.007812</td>\n",
       "      <td>0.015625</td>\n",
       "      <td>0.000000</td>\n",
       "      <td>0.017578</td>\n",
       "      <td>0.029297</td>\n",
       "      <td>0.021484</td>\n",
       "      <td>0.001953</td>\n",
       "      <td>0.003906</td>\n",
       "      <td>0.025391</td>\n",
       "      <td>0.000000</td>\n",
       "      <td>0.013672</td>\n",
       "      <td>0.005859</td>\n",
       "      <td>0.042969</td>\n",
       "      <td>0.064453</td>\n",
       "      <td>0.031250</td>\n",
       "      <td>0.005859</td>\n",
       "      <td>...</td>\n",
       "      <td>0.004883</td>\n",
       "      <td>0.000000</td>\n",
       "      <td>0.013672</td>\n",
       "      <td>0.001953</td>\n",
       "      <td>0.045898</td>\n",
       "      <td>0.024414</td>\n",
       "      <td>0.045898</td>\n",
       "      <td>0.000000</td>\n",
       "      <td>0.000000</td>\n",
       "      <td>0.070312</td>\n",
       "      <td>0.011719</td>\n",
       "      <td>0.000000</td>\n",
       "      <td>0.000000</td>\n",
       "      <td>0.054688</td>\n",
       "      <td>0.024414</td>\n",
       "      <td>0.026367</td>\n",
       "      <td>0.000000</td>\n",
       "      <td>0.000977</td>\n",
       "      <td>0.010742</td>\n",
       "      <td>0.020508</td>\n",
       "      <td>0.013672</td>\n",
       "      <td>0.034180</td>\n",
       "      <td>0.025391</td>\n",
       "      <td>0.000000</td>\n",
       "      <td>0.014648</td>\n",
       "      <td>0.018555</td>\n",
       "      <td>0.000000</td>\n",
       "      <td>0.000000</td>\n",
       "      <td>0.000000</td>\n",
       "      <td>0.015625</td>\n",
       "      <td>0.006836</td>\n",
       "      <td>0.000000</td>\n",
       "      <td>0.015625</td>\n",
       "      <td>0.000977</td>\n",
       "      <td>0.015625</td>\n",
       "      <td>0.0</td>\n",
       "      <td>0.0</td>\n",
       "      <td>0.000000</td>\n",
       "      <td>0.003906</td>\n",
       "      <td>0.053711</td>\n",
       "    </tr>\n",
       "    <tr>\n",
       "      <th>7</th>\n",
       "      <td>0.007812</td>\n",
       "      <td>0.005859</td>\n",
       "      <td>0.064453</td>\n",
       "      <td>0.009766</td>\n",
       "      <td>0.003906</td>\n",
       "      <td>0.013672</td>\n",
       "      <td>0.007812</td>\n",
       "      <td>0.0</td>\n",
       "      <td>0.033203</td>\n",
       "      <td>0.023438</td>\n",
       "      <td>0.009766</td>\n",
       "      <td>0.019531</td>\n",
       "      <td>0.039062</td>\n",
       "      <td>0.027344</td>\n",
       "      <td>0.017578</td>\n",
       "      <td>0.000000</td>\n",
       "      <td>0.017578</td>\n",
       "      <td>0.015625</td>\n",
       "      <td>0.009766</td>\n",
       "      <td>0.009766</td>\n",
       "      <td>0.042969</td>\n",
       "      <td>0.007812</td>\n",
       "      <td>0.000000</td>\n",
       "      <td>0.003906</td>\n",
       "      <td>0.005859</td>\n",
       "      <td>0.011719</td>\n",
       "      <td>0.007812</td>\n",
       "      <td>0.009766</td>\n",
       "      <td>0.037109</td>\n",
       "      <td>0.013672</td>\n",
       "      <td>0.005859</td>\n",
       "      <td>0.003906</td>\n",
       "      <td>0.019531</td>\n",
       "      <td>0.000000</td>\n",
       "      <td>0.005859</td>\n",
       "      <td>0.029297</td>\n",
       "      <td>0.019531</td>\n",
       "      <td>0.041016</td>\n",
       "      <td>0.005859</td>\n",
       "      <td>0.003906</td>\n",
       "      <td>...</td>\n",
       "      <td>0.001953</td>\n",
       "      <td>0.002930</td>\n",
       "      <td>0.051758</td>\n",
       "      <td>0.001953</td>\n",
       "      <td>0.016602</td>\n",
       "      <td>0.010742</td>\n",
       "      <td>0.044922</td>\n",
       "      <td>0.000000</td>\n",
       "      <td>0.000000</td>\n",
       "      <td>0.033203</td>\n",
       "      <td>0.013672</td>\n",
       "      <td>0.000000</td>\n",
       "      <td>0.000000</td>\n",
       "      <td>0.031250</td>\n",
       "      <td>0.058594</td>\n",
       "      <td>0.041016</td>\n",
       "      <td>0.012695</td>\n",
       "      <td>0.005859</td>\n",
       "      <td>0.021484</td>\n",
       "      <td>0.047852</td>\n",
       "      <td>0.030273</td>\n",
       "      <td>0.009766</td>\n",
       "      <td>0.041992</td>\n",
       "      <td>0.000000</td>\n",
       "      <td>0.007812</td>\n",
       "      <td>0.004883</td>\n",
       "      <td>0.000000</td>\n",
       "      <td>0.000000</td>\n",
       "      <td>0.000000</td>\n",
       "      <td>0.049805</td>\n",
       "      <td>0.000000</td>\n",
       "      <td>0.000000</td>\n",
       "      <td>0.006836</td>\n",
       "      <td>0.001953</td>\n",
       "      <td>0.013672</td>\n",
       "      <td>0.0</td>\n",
       "      <td>0.0</td>\n",
       "      <td>0.000977</td>\n",
       "      <td>0.037109</td>\n",
       "      <td>0.044922</td>\n",
       "    </tr>\n",
       "    <tr>\n",
       "      <th>9</th>\n",
       "      <td>0.000000</td>\n",
       "      <td>0.000000</td>\n",
       "      <td>0.001953</td>\n",
       "      <td>0.021484</td>\n",
       "      <td>0.041016</td>\n",
       "      <td>0.000000</td>\n",
       "      <td>0.023438</td>\n",
       "      <td>0.0</td>\n",
       "      <td>0.011719</td>\n",
       "      <td>0.005859</td>\n",
       "      <td>0.001953</td>\n",
       "      <td>0.021484</td>\n",
       "      <td>0.001953</td>\n",
       "      <td>0.019531</td>\n",
       "      <td>0.035156</td>\n",
       "      <td>0.000000</td>\n",
       "      <td>0.007812</td>\n",
       "      <td>0.001953</td>\n",
       "      <td>0.046875</td>\n",
       "      <td>0.003906</td>\n",
       "      <td>0.003906</td>\n",
       "      <td>0.013672</td>\n",
       "      <td>0.015625</td>\n",
       "      <td>0.037109</td>\n",
       "      <td>0.027344</td>\n",
       "      <td>0.009766</td>\n",
       "      <td>0.023438</td>\n",
       "      <td>0.027344</td>\n",
       "      <td>0.005859</td>\n",
       "      <td>0.011719</td>\n",
       "      <td>0.046875</td>\n",
       "      <td>0.056641</td>\n",
       "      <td>0.001953</td>\n",
       "      <td>0.003906</td>\n",
       "      <td>0.003906</td>\n",
       "      <td>0.005859</td>\n",
       "      <td>0.001953</td>\n",
       "      <td>0.003906</td>\n",
       "      <td>0.013672</td>\n",
       "      <td>0.007812</td>\n",
       "      <td>...</td>\n",
       "      <td>0.000000</td>\n",
       "      <td>0.010742</td>\n",
       "      <td>0.010742</td>\n",
       "      <td>0.000000</td>\n",
       "      <td>0.005859</td>\n",
       "      <td>0.000000</td>\n",
       "      <td>0.088867</td>\n",
       "      <td>0.000000</td>\n",
       "      <td>0.000977</td>\n",
       "      <td>0.051758</td>\n",
       "      <td>0.000000</td>\n",
       "      <td>0.000000</td>\n",
       "      <td>0.000000</td>\n",
       "      <td>0.042969</td>\n",
       "      <td>0.002930</td>\n",
       "      <td>0.026367</td>\n",
       "      <td>0.000000</td>\n",
       "      <td>0.000000</td>\n",
       "      <td>0.000000</td>\n",
       "      <td>0.013672</td>\n",
       "      <td>0.003906</td>\n",
       "      <td>0.022461</td>\n",
       "      <td>0.007812</td>\n",
       "      <td>0.038086</td>\n",
       "      <td>0.000000</td>\n",
       "      <td>0.000000</td>\n",
       "      <td>0.000000</td>\n",
       "      <td>0.000000</td>\n",
       "      <td>0.000000</td>\n",
       "      <td>0.084961</td>\n",
       "      <td>0.128910</td>\n",
       "      <td>0.000000</td>\n",
       "      <td>0.000977</td>\n",
       "      <td>0.000000</td>\n",
       "      <td>0.000000</td>\n",
       "      <td>0.0</td>\n",
       "      <td>0.0</td>\n",
       "      <td>0.015625</td>\n",
       "      <td>0.000000</td>\n",
       "      <td>0.000000</td>\n",
       "    </tr>\n",
       "    <tr>\n",
       "      <th>12</th>\n",
       "      <td>0.000000</td>\n",
       "      <td>0.000000</td>\n",
       "      <td>0.009766</td>\n",
       "      <td>0.011719</td>\n",
       "      <td>0.017578</td>\n",
       "      <td>0.000000</td>\n",
       "      <td>0.003906</td>\n",
       "      <td>0.0</td>\n",
       "      <td>0.003906</td>\n",
       "      <td>0.001953</td>\n",
       "      <td>0.000000</td>\n",
       "      <td>0.029297</td>\n",
       "      <td>0.000000</td>\n",
       "      <td>0.039062</td>\n",
       "      <td>0.037109</td>\n",
       "      <td>0.003906</td>\n",
       "      <td>0.007812</td>\n",
       "      <td>0.005859</td>\n",
       "      <td>0.007812</td>\n",
       "      <td>0.005859</td>\n",
       "      <td>0.025391</td>\n",
       "      <td>0.023438</td>\n",
       "      <td>0.015625</td>\n",
       "      <td>0.021484</td>\n",
       "      <td>0.033203</td>\n",
       "      <td>0.009766</td>\n",
       "      <td>0.050781</td>\n",
       "      <td>0.015625</td>\n",
       "      <td>0.005859</td>\n",
       "      <td>0.005859</td>\n",
       "      <td>0.009766</td>\n",
       "      <td>0.015625</td>\n",
       "      <td>0.001953</td>\n",
       "      <td>0.003906</td>\n",
       "      <td>0.001953</td>\n",
       "      <td>0.005859</td>\n",
       "      <td>0.001953</td>\n",
       "      <td>0.039062</td>\n",
       "      <td>0.027344</td>\n",
       "      <td>0.009766</td>\n",
       "      <td>...</td>\n",
       "      <td>0.000977</td>\n",
       "      <td>0.063477</td>\n",
       "      <td>0.013672</td>\n",
       "      <td>0.000000</td>\n",
       "      <td>0.003906</td>\n",
       "      <td>0.005859</td>\n",
       "      <td>0.000977</td>\n",
       "      <td>0.022461</td>\n",
       "      <td>0.006836</td>\n",
       "      <td>0.026367</td>\n",
       "      <td>0.000000</td>\n",
       "      <td>0.040039</td>\n",
       "      <td>0.009766</td>\n",
       "      <td>0.026367</td>\n",
       "      <td>0.016602</td>\n",
       "      <td>0.017578</td>\n",
       "      <td>0.000000</td>\n",
       "      <td>0.005859</td>\n",
       "      <td>0.018555</td>\n",
       "      <td>0.011719</td>\n",
       "      <td>0.000977</td>\n",
       "      <td>0.010742</td>\n",
       "      <td>0.025391</td>\n",
       "      <td>0.000000</td>\n",
       "      <td>0.019531</td>\n",
       "      <td>0.004883</td>\n",
       "      <td>0.077148</td>\n",
       "      <td>0.036133</td>\n",
       "      <td>0.037109</td>\n",
       "      <td>0.040039</td>\n",
       "      <td>0.012695</td>\n",
       "      <td>0.015625</td>\n",
       "      <td>0.002930</td>\n",
       "      <td>0.036133</td>\n",
       "      <td>0.013672</td>\n",
       "      <td>0.0</td>\n",
       "      <td>0.0</td>\n",
       "      <td>0.089844</td>\n",
       "      <td>0.000000</td>\n",
       "      <td>0.008789</td>\n",
       "    </tr>\n",
       "    <tr>\n",
       "      <th>13</th>\n",
       "      <td>0.001953</td>\n",
       "      <td>0.000000</td>\n",
       "      <td>0.015625</td>\n",
       "      <td>0.009766</td>\n",
       "      <td>0.039062</td>\n",
       "      <td>0.000000</td>\n",
       "      <td>0.009766</td>\n",
       "      <td>0.0</td>\n",
       "      <td>0.005859</td>\n",
       "      <td>0.000000</td>\n",
       "      <td>0.001953</td>\n",
       "      <td>0.033203</td>\n",
       "      <td>0.000000</td>\n",
       "      <td>0.003906</td>\n",
       "      <td>0.011719</td>\n",
       "      <td>0.000000</td>\n",
       "      <td>0.003906</td>\n",
       "      <td>0.005859</td>\n",
       "      <td>0.011719</td>\n",
       "      <td>0.001953</td>\n",
       "      <td>0.035156</td>\n",
       "      <td>0.027344</td>\n",
       "      <td>0.000000</td>\n",
       "      <td>0.003906</td>\n",
       "      <td>0.056641</td>\n",
       "      <td>0.013672</td>\n",
       "      <td>0.029297</td>\n",
       "      <td>0.023438</td>\n",
       "      <td>0.000000</td>\n",
       "      <td>0.013672</td>\n",
       "      <td>0.074219</td>\n",
       "      <td>0.083984</td>\n",
       "      <td>0.009766</td>\n",
       "      <td>0.000000</td>\n",
       "      <td>0.000000</td>\n",
       "      <td>0.001953</td>\n",
       "      <td>0.007812</td>\n",
       "      <td>0.031250</td>\n",
       "      <td>0.009766</td>\n",
       "      <td>0.023438</td>\n",
       "      <td>...</td>\n",
       "      <td>0.014648</td>\n",
       "      <td>0.017578</td>\n",
       "      <td>0.000977</td>\n",
       "      <td>0.002930</td>\n",
       "      <td>0.034180</td>\n",
       "      <td>0.010742</td>\n",
       "      <td>0.031250</td>\n",
       "      <td>0.052734</td>\n",
       "      <td>0.000977</td>\n",
       "      <td>0.000000</td>\n",
       "      <td>0.002930</td>\n",
       "      <td>0.000000</td>\n",
       "      <td>0.002930</td>\n",
       "      <td>0.008789</td>\n",
       "      <td>0.005859</td>\n",
       "      <td>0.019531</td>\n",
       "      <td>0.000000</td>\n",
       "      <td>0.009766</td>\n",
       "      <td>0.009766</td>\n",
       "      <td>0.000000</td>\n",
       "      <td>0.021484</td>\n",
       "      <td>0.002930</td>\n",
       "      <td>0.028320</td>\n",
       "      <td>0.000000</td>\n",
       "      <td>0.017578</td>\n",
       "      <td>0.054688</td>\n",
       "      <td>0.073242</td>\n",
       "      <td>0.010742</td>\n",
       "      <td>0.014648</td>\n",
       "      <td>0.040039</td>\n",
       "      <td>0.000000</td>\n",
       "      <td>0.042969</td>\n",
       "      <td>0.016602</td>\n",
       "      <td>0.010742</td>\n",
       "      <td>0.041016</td>\n",
       "      <td>0.0</td>\n",
       "      <td>0.0</td>\n",
       "      <td>0.007812</td>\n",
       "      <td>0.009766</td>\n",
       "      <td>0.007812</td>\n",
       "    </tr>\n",
       "  </tbody>\n",
       "</table>\n",
       "<p>5 rows × 192 columns</p>\n",
       "</div>"
      ],
      "text/plain": [
       "     margin1   margin2   margin3  ...  texture62  texture63  texture64\n",
       "id                                ...                                 \n",
       "4   0.019531  0.009766  0.078125  ...   0.000000   0.003906   0.053711\n",
       "7   0.007812  0.005859  0.064453  ...   0.000977   0.037109   0.044922\n",
       "9   0.000000  0.000000  0.001953  ...   0.015625   0.000000   0.000000\n",
       "12  0.000000  0.000000  0.009766  ...   0.089844   0.000000   0.008789\n",
       "13  0.001953  0.000000  0.015625  ...   0.007812   0.009766   0.007812\n",
       "\n",
       "[5 rows x 192 columns]"
      ]
     },
     "execution_count": 22,
     "metadata": {
      "tags": []
     },
     "output_type": "execute_result"
    }
   ],
   "source": [
    "df_test = pd.read_csv('./data/test.csv', index_col=0)\n",
    "df_test.head()"
   ]
  },
  {
   "cell_type": "code",
   "execution_count": 23,
   "metadata": {
    "colab": {
     "base_uri": "https://localhost:8080/",
     "height": 555
    },
    "colab_type": "code",
    "id": "M0n8vzZ8bPZi",
    "outputId": "3d925031-cf2e-41e6-bab0-ce21095bb3c7"
   },
   "outputs": [
    {
     "name": "stdout",
     "output_type": "stream",
     "text": [
      "['Acer_Capillipes' 'Acer_Circinatum' 'Acer_Mono' 'Acer_Opalus'\n",
      " 'Acer_Palmatum' 'Acer_Pictum' 'Acer_Platanoids' 'Acer_Rubrum'\n",
      " 'Acer_Rufinerve' 'Acer_Saccharinum' 'Alnus_Cordata' 'Alnus_Maximowiczii'\n",
      " 'Alnus_Rubra' 'Alnus_Sieboldiana' 'Alnus_Viridis' 'Arundinaria_Simonii'\n",
      " 'Betula_Austrosinensis' 'Betula_Pendula' 'Callicarpa_Bodinieri'\n",
      " 'Castanea_Sativa' 'Celtis_Koraiensis' 'Cercis_Siliquastrum'\n",
      " 'Cornus_Chinensis' 'Cornus_Controversa' 'Cornus_Macrophylla'\n",
      " 'Cotinus_Coggygria' 'Crataegus_Monogyna' 'Cytisus_Battandieri'\n",
      " 'Eucalyptus_Glaucescens' 'Eucalyptus_Neglecta' 'Eucalyptus_Urnigera'\n",
      " 'Fagus_Sylvatica' 'Ginkgo_Biloba' 'Ilex_Aquifolium' 'Ilex_Cornuta'\n",
      " 'Liquidambar_Styraciflua' 'Liriodendron_Tulipifera'\n",
      " 'Lithocarpus_Cleistocarpus' 'Lithocarpus_Edulis' 'Magnolia_Heptapeta'\n",
      " 'Magnolia_Salicifolia' 'Morus_Nigra' 'Olea_Europaea' 'Phildelphus'\n",
      " 'Populus_Adenopoda' 'Populus_Grandidentata' 'Populus_Nigra'\n",
      " 'Prunus_Avium' 'Prunus_X_Shmittii' 'Pterocarya_Stenoptera'\n",
      " 'Quercus_Afares' 'Quercus_Agrifolia' 'Quercus_Alnifolia'\n",
      " 'Quercus_Brantii' 'Quercus_Canariensis' 'Quercus_Castaneifolia'\n",
      " 'Quercus_Cerris' 'Quercus_Chrysolepis' 'Quercus_Coccifera'\n",
      " 'Quercus_Coccinea' 'Quercus_Crassifolia' 'Quercus_Crassipes'\n",
      " 'Quercus_Dolicholepis' 'Quercus_Ellipsoidalis' 'Quercus_Greggii'\n",
      " 'Quercus_Hartwissiana' 'Quercus_Ilex' 'Quercus_Imbricaria'\n",
      " 'Quercus_Infectoria_sub' 'Quercus_Kewensis' 'Quercus_Nigra'\n",
      " 'Quercus_Palustris' 'Quercus_Phellos' 'Quercus_Phillyraeoides'\n",
      " 'Quercus_Pontica' 'Quercus_Pubescens' 'Quercus_Pyrenaica'\n",
      " 'Quercus_Rhysophylla' 'Quercus_Rubra' 'Quercus_Semecarpifolia'\n",
      " 'Quercus_Shumardii' 'Quercus_Suber' 'Quercus_Texana' 'Quercus_Trojana'\n",
      " 'Quercus_Variabilis' 'Quercus_Vulcanica' 'Quercus_x_Hispanica'\n",
      " 'Quercus_x_Turneri' 'Rhododendron_x_Russellianum' 'Salix_Fragilis'\n",
      " 'Salix_Intergra' 'Sorbus_Aria' 'Tilia_Oliveri' 'Tilia_Platyphyllos'\n",
      " 'Tilia_Tomentosa' 'Ulmus_Bergmanniana' 'Viburnum_Tinus'\n",
      " 'Viburnum_x_Rhytidophylloides' 'Zelkova_Serrata']\n"
     ]
    }
   ],
   "source": [
    "correct_order = 'Acer_Capillipes,Acer_Circinatum,Acer_Mono,Acer_Opalus,Acer_Palmatum,Acer_Pictum,Acer_Platanoids,Acer_Rubrum,Acer_Rufinerve,Acer_Saccharinum,Alnus_Cordata,Alnus_Maximowiczii,Alnus_Rubra,Alnus_Sieboldiana,Alnus_Viridis,Arundinaria_Simonii,Betula_Austrosinensis,Betula_Pendula,Callicarpa_Bodinieri,Castanea_Sativa,Celtis_Koraiensis,Cercis_Siliquastrum,Cornus_Chinensis,Cornus_Controversa,Cornus_Macrophylla,Cotinus_Coggygria,Crataegus_Monogyna,Cytisus_Battandieri,Eucalyptus_Glaucescens,Eucalyptus_Neglecta,Eucalyptus_Urnigera,Fagus_Sylvatica,Ginkgo_Biloba,Ilex_Aquifolium,Ilex_Cornuta,Liquidambar_Styraciflua,Liriodendron_Tulipifera,Lithocarpus_Cleistocarpus,Lithocarpus_Edulis,Magnolia_Heptapeta,Magnolia_Salicifolia,Morus_Nigra,Olea_Europaea,Phildelphus,Populus_Adenopoda,Populus_Grandidentata,Populus_Nigra,Prunus_Avium,Prunus_X_Shmittii,Pterocarya_Stenoptera,Quercus_Afares,Quercus_Agrifolia,Quercus_Alnifolia,Quercus_Brantii,Quercus_Canariensis,Quercus_Castaneifolia,Quercus_Cerris,Quercus_Chrysolepis,Quercus_Coccifera,Quercus_Coccinea,Quercus_Crassifolia,Quercus_Crassipes,Quercus_Dolicholepis,Quercus_Ellipsoidalis,Quercus_Greggii,Quercus_Hartwissiana,Quercus_Ilex,Quercus_Imbricaria,Quercus_Infectoria_sub,Quercus_Kewensis,Quercus_Nigra,Quercus_Palustris,Quercus_Phellos,Quercus_Phillyraeoides,Quercus_Pontica,Quercus_Pubescens,Quercus_Pyrenaica,Quercus_Rhysophylla,Quercus_Rubra,Quercus_Semecarpifolia,Quercus_Shumardii,Quercus_Suber,Quercus_Texana,Quercus_Trojana,Quercus_Variabilis,Quercus_Vulcanica,Quercus_x_Hispanica,Quercus_x_Turneri,Rhododendron_x_Russellianum,Salix_Fragilis,Salix_Intergra,Sorbus_Aria,Tilia_Oliveri,Tilia_Platyphyllos,Tilia_Tomentosa,Ulmus_Bergmanniana,Viburnum_Tinus,Viburnum_x_Rhytidophylloides,Zelkova_Serrata'\n",
    "correct_order = np.array(correct_order.split(','))\n",
    "print(correct_order)"
   ]
  },
  {
   "cell_type": "code",
   "execution_count": 0,
   "metadata": {
    "colab": {},
    "colab_type": "code",
    "id": "_rFa_3Bka3CN"
   },
   "outputs": [],
   "source": [
    "import csv\n",
    "\n",
    "def write_file(name, preds):\n",
    "    with open(f'output_{name}.csv', 'w', newline='') as csvfile:\n",
    "        writer = csv.writer(csvfile, delimiter=',', quotechar='|', quoting=csv.QUOTE_MINIMAL)\n",
    "        writer.writerow(['id'] + correct_order.tolist())\n",
    "    for i, row in enumerate(preds):\n",
    "        writer.writerow([df_test.index[i]] + row.tolist())\n",
    "\n",
    "#refit\n",
    "for name, clf in classifiers:\n",
    "    clf.fit(X, y)\n",
    "    np.array_equal(correct_order, label_encoder.inverse_transform(clf.classes_))\n",
    "    preds = clf.predict_proba(df_test)\n",
    "    write_file(name, preds)\n"
   ]
  },
  {
   "cell_type": "code",
   "execution_count": 0,
   "metadata": {
    "colab": {},
    "colab_type": "code",
    "id": "E5oh7hTNgEi4"
   },
   "outputs": [],
   "source": [
    "voting_clf_soft.fit(X, y) #refit\n",
    "preds = voting_clf_soft.predict_proba(df_test)\n",
    "write_file('voting', preds)"
   ]
  },
  {
   "cell_type": "markdown",
   "metadata": {
    "colab_type": "text",
    "id": "rP2k-i40b-4O"
   },
   "source": [
    "Results on kaggle\n",
    "\n",
    "mlp 3.95339\n",
    "\n",
    "forest 1.01360\n",
    "\n",
    "tree 6.07134\n",
    "\n",
    "logistic 0.28337\n",
    "\n",
    "svm linear 4.63210\n",
    "\n",
    "svm poly 4.61134\n",
    "\n",
    "svm rbf 4.67727\n",
    "\n",
    "voting 1.41568\n",
    "\n",
    "### Zwycięzcą okazał się klasyfikator logistic z wynikiem 0.28337. Tak wynik dawał by 957 miejsce na 1547 drużyn.\n"
   ]
  }
 ],
 "metadata": {
  "accelerator": "GPU",
  "colab": {
   "collapsed_sections": [],
   "name": "AD project.ipynb",
   "provenance": []
  },
  "kernelspec": {
   "display_name": "Python 3",
   "language": "python",
   "name": "python3"
  },
  "language_info": {
   "codemirror_mode": {
    "name": "ipython",
    "version": 3
   },
   "file_extension": ".py",
   "mimetype": "text/x-python",
   "name": "python",
   "nbconvert_exporter": "python",
   "pygments_lexer": "ipython3",
   "version": "3.7.4"
  }
 },
 "nbformat": 4,
 "nbformat_minor": 1
}
